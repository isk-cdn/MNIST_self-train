{
 "cells": [
  {
   "cell_type": "code",
   "execution_count": 1,
   "metadata": {},
   "outputs": [
    {
     "name": "stderr",
     "output_type": "stream",
     "text": [
      "Using TensorFlow backend.\n"
     ]
    }
   ],
   "source": [
    "import numpy as np\n",
    "from keras.datasets import mnist\n",
    "from keras.models import Sequential\n",
    "from keras.layers import Dense, Conv2D, MaxPooling2D, Dropout, Flatten\n",
    "from keras.utils import np_utils\n",
    "\n",
    "import os\n",
    "from numpy import argmax\n",
    "from keras.preprocessing.image import load_img, img_to_array, array_to_img"
   ]
  },
  {
   "cell_type": "code",
   "execution_count": 2,
   "metadata": {},
   "outputs": [],
   "source": [
    "(X_train, Y_train), (X_test, Y_test) = mnist.load_data()\n",
    "X_train = (X_train.astype(np.float32))/255\n",
    "X_test = (X_test.astype(np.float32))/255\n",
    "X_train = np.expand_dims(X_train, -1)\n",
    "X_test = np.expand_dims(X_test, -1)\n",
    "\n",
    "#Y_train = np_utils.to_categorical(Y_train, 10)\n",
    "Y_test = np_utils.to_categorical(Y_test, 10)"
   ]
  },
  {
   "cell_type": "markdown",
   "metadata": {},
   "source": [
    "We will using small learning set for \"pre-train\"  - 10 images of each digit. Quality of it set very important - all samples must be undoubted and covering all possible writing styles of digits. "
   ]
  },
  {
   "cell_type": "code",
   "execution_count": 3,
   "metadata": {},
   "outputs": [],
   "source": [
    "path = './samples/'\n",
    "x_learn = []\n",
    "y_learn = []\n",
    "\n",
    "n = 0\n",
    "while n<10:\n",
    "    path = './samples/' + str(n) + '/'\n",
    "    for image_path in os.listdir(path):\n",
    "        img = load_img(path + image_path, color_mode = \"grayscale\")\n",
    "        img = (img_to_array(img))/255 \n",
    "        x_learn.append(img)\n",
    "        y_learn.append(n)\n",
    "    n+=1\n",
    "\n",
    "x_learn = np.array(x_learn)\n",
    "y_learn = np.array(y_learn)\n",
    "y_learn = np_utils.to_categorical(y_learn, 10)"
   ]
  },
  {
   "cell_type": "code",
   "execution_count": 4,
   "metadata": {},
   "outputs": [
    {
     "name": "stdout",
     "output_type": "stream",
     "text": [
      "_________________________________________________________________\n",
      "Layer (type)                 Output Shape              Param #   \n",
      "=================================================================\n",
      "conv2d_1 (Conv2D)            (None, 26, 26, 64)        640       \n",
      "_________________________________________________________________\n",
      "max_pooling2d_1 (MaxPooling2 (None, 13, 13, 64)        0         \n",
      "_________________________________________________________________\n",
      "dropout_1 (Dropout)          (None, 13, 13, 64)        0         \n",
      "_________________________________________________________________\n",
      "conv2d_2 (Conv2D)            (None, 11, 11, 16)        9232      \n",
      "_________________________________________________________________\n",
      "max_pooling2d_2 (MaxPooling2 (None, 5, 5, 16)          0         \n",
      "_________________________________________________________________\n",
      "dropout_2 (Dropout)          (None, 5, 5, 16)          0         \n",
      "_________________________________________________________________\n",
      "flatten_1 (Flatten)          (None, 400)               0         \n",
      "_________________________________________________________________\n",
      "dense_1 (Dense)              (None, 128)               51328     \n",
      "_________________________________________________________________\n",
      "dropout_3 (Dropout)          (None, 128)               0         \n",
      "_________________________________________________________________\n",
      "dense_2 (Dense)              (None, 10)                1290      \n",
      "=================================================================\n",
      "Total params: 62,490\n",
      "Trainable params: 62,490\n",
      "Non-trainable params: 0\n",
      "_________________________________________________________________\n",
      "None\n"
     ]
    }
   ],
   "source": [
    "model = Sequential()\n",
    "\n",
    "model.add(Conv2D(64, kernel_size=(3, 3), activation='relu', input_shape=(28,28,1)))\n",
    "model.add(MaxPooling2D(pool_size=(2, 2)))\n",
    "model.add(Dropout(0.2))\n",
    "model.add(Conv2D(16, (3, 3), activation='relu'))\n",
    "model.add(MaxPooling2D(pool_size=(2, 2)))\n",
    "model.add(Dropout(0.2))\n",
    "model.add(Flatten())\n",
    "model.add(Dense(128, activation='relu'))\n",
    "model.add(Dropout(0.5))\n",
    "model.add(Dense(10, activation='softmax'))\n",
    "\n",
    "model.compile(loss=\"categorical_crossentropy\", optimizer='Adam', metrics=[\"accuracy\"])\n",
    "print(model.summary())"
   ]
  },
  {
   "cell_type": "markdown",
   "metadata": {},
   "source": [
    "Training model on learning batch until more than 98.5% samples will be predicted with probability >50%."
   ]
  },
  {
   "cell_type": "code",
   "execution_count": 5,
   "metadata": {},
   "outputs": [
    {
     "name": "stdout",
     "output_type": "stream",
     "text": [
      "X_test accuracy: 87.02 %\n"
     ]
    }
   ],
   "source": [
    "while True:\n",
    "    model.fit(x_learn, y_learn, batch_size=10, shuffle=True, epochs=1, verbose =0)\n",
    "    predicts = model.predict(X_train[:1000])\n",
    "    n = 0\n",
    "    for predict in predicts:\n",
    "        category = argmax(predict)\n",
    "        if predict[category]>0.5:\n",
    "            n = n +1\n",
    "    #print(str(n)+'/'+str(len(predicts)))\n",
    "    if n >= 985:\n",
    "        break\n",
    "scores = model.evaluate(X_test, Y_test, verbose=0)\n",
    "print('X_test accuracy:', scores[1]*100, '%')"
   ]
  },
  {
   "cell_type": "markdown",
   "metadata": {},
   "source": [
    "Then, we select all samples with predict accuracy above then threshold and continue training batch by batch, epoch by epoch. Every epoch we can reduce threshold and include in training set more uncertain images, as overall accuracy improve."
   ]
  },
  {
   "cell_type": "code",
   "execution_count": 6,
   "metadata": {},
   "outputs": [
    {
     "name": "stdout",
     "output_type": "stream",
     "text": [
      "Epoch: 1 / 5\n",
      "Batch: 01 / 6 : Accepted : 81.17999999999999 % images\n",
      "Accuracy: 90.85 %\n",
      "Batch: 02 / 6 : Accepted : 85.26 % images\n",
      "Accuracy: 92.71 %\n",
      "Batch: 03 / 6 : Accepted : 90.83 % images\n",
      "Accuracy: 94.05 %\n",
      "Batch: 04 / 6 : Accepted : 92.42 % images\n",
      "Accuracy: 94.68 %\n",
      "Batch: 05 / 6 : Accepted : 93.23 % images\n",
      "Accuracy: 95.26 %\n",
      "Batch: 06 / 6 : Accepted : 94.69 % images\n",
      "Accuracy: 95.83 %\n",
      "Epoch: 2 / 5\n",
      "Batch: 01 / 6 : Accepted : 97.0 % images\n",
      "Accuracy: 96.14 %\n",
      "Batch: 02 / 6 : Accepted : 96.5 % images\n",
      "Accuracy: 96.32 %\n",
      "Batch: 03 / 6 : Accepted : 96.66 % images\n",
      "Accuracy: 96.65 %\n",
      "Batch: 04 / 6 : Accepted : 97.5 % images\n",
      "Accuracy: 96.88 %\n",
      "Batch: 05 / 6 : Accepted : 97.57000000000001 % images\n",
      "Accuracy: 97.14 %\n",
      "Batch: 06 / 6 : Accepted : 98.08 % images\n",
      "Accuracy: 97.2 %\n",
      "Epoch: 3 / 5\n",
      "Batch: 01 / 6 : Accepted : 98.54 % images\n",
      "Accuracy: 97.25 %\n",
      "Batch: 02 / 6 : Accepted : 98.44000000000001 % images\n",
      "Accuracy: 97.24 %\n",
      "Batch: 03 / 6 : Accepted : 98.53 % images\n",
      "Accuracy: 97.43 %\n",
      "Batch: 04 / 6 : Accepted : 98.79 % images\n",
      "Accuracy: 97.48 %\n",
      "Batch: 05 / 6 : Accepted : 98.75 % images\n",
      "Accuracy: 97.57 %\n",
      "Batch: 06 / 6 : Accepted : 98.91 % images\n",
      "Accuracy: 97.67 %\n",
      "Epoch: 4 / 5\n",
      "Batch: 01 / 6 : Accepted : 99.24 % images\n",
      "Accuracy: 97.67 %\n",
      "Batch: 02 / 6 : Accepted : 99.4 % images\n",
      "Accuracy: 97.69 %\n",
      "Batch: 03 / 6 : Accepted : 99.4 % images\n",
      "Accuracy: 97.91 %\n",
      "Batch: 04 / 6 : Accepted : 99.33999999999999 % images\n",
      "Accuracy: 97.81 %\n",
      "Batch: 05 / 6 : Accepted : 99.48 % images\n",
      "Accuracy: 97.72 %\n",
      "Batch: 06 / 6 : Accepted : 99.55000000000001 % images\n",
      "Accuracy: 97.83 %\n",
      "Epoch: 5 / 5\n",
      "Batch: 01 / 6 : Accepted : 99.82 % images\n",
      "Accuracy: 97.82 %\n",
      "Batch: 02 / 6 : Accepted : 99.86 % images\n",
      "Accuracy: 97.83 %\n",
      "Batch: 03 / 6 : Accepted : 99.91 % images\n",
      "Accuracy: 97.83 %\n",
      "Batch: 04 / 6 : Accepted : 99.8 % images\n",
      "Accuracy: 97.82 %\n",
      "Batch: 05 / 6 : Accepted : 99.82 % images\n",
      "Accuracy: 97.87 %\n",
      "Batch: 06 / 6 : Accepted : 99.83999999999999 % images\n",
      "Accuracy: 97.94 %\n"
     ]
    }
   ],
   "source": [
    "epochs = 5\n",
    "batch_size = 10000\n",
    "threshold = 0.91\n",
    "\n",
    "for epoch in range(epochs):\n",
    "    print('Epoch:', int(epoch+1), '/', epochs)\n",
    "    for index in range(int(len(X_train)/batch_size)):\n",
    "        print('Batch:', str(int(index+1)).zfill(2), '/', int(len(X_train)/batch_size), end='')\n",
    "        \n",
    "        batch = model.predict(X_train[index*batch_size:(index+1)*batch_size])\n",
    "        \n",
    "        x_self_train=[]\n",
    "        y_self_train=[]\n",
    "        for i in range(len(batch)):\n",
    "            category = argmax(batch[i])\n",
    "            if batch[i][category]>=threshold:\n",
    "                x_self_train.append(X_train[(index*batch_size)+i])\n",
    "                y_self_train.append(category)\n",
    "            \n",
    "        x_self_train = np.array(x_self_train)\n",
    "        y_self_train = np.array(y_self_train)\n",
    "        y_self_train = np_utils.to_categorical(y_self_train, 10)\n",
    "        \n",
    "        print(' : Accepted :', str(len(x_self_train)/batch_size*100),'% images')\n",
    "        model.fit(x_self_train, y_self_train, batch_size=50, shuffle=True, epochs=5, verbose =0)\n",
    "        \n",
    "        scores = model.evaluate(X_test, Y_test, verbose=0)\n",
    "        print('Accuracy:', scores[1]*100, '%',)\n",
    "    threshold-=0.1"
   ]
  },
  {
   "cell_type": "code",
   "execution_count": null,
   "metadata": {},
   "outputs": [],
   "source": []
  }
 ],
 "metadata": {
  "kernelspec": {
   "display_name": "Python 3",
   "language": "python",
   "name": "python3"
  },
  "language_info": {
   "codemirror_mode": {
    "name": "ipython",
    "version": 3
   },
   "file_extension": ".py",
   "mimetype": "text/x-python",
   "name": "python",
   "nbconvert_exporter": "python",
   "pygments_lexer": "ipython3",
   "version": "3.6.6"
  }
 },
 "nbformat": 4,
 "nbformat_minor": 2
}
